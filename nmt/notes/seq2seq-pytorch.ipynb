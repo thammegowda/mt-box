{
 "cells": [
  {
   "cell_type": "markdown",
   "metadata": {},
   "source": [
    "# Seq2Seq using Pytorch\n",
    "\n",
    "This is taken from http://pytorch.org/tutorials/intermediate/seq2seq_translation_tutorial.html \n"
   ]
  },
  {
   "cell_type": "code",
   "execution_count": 1,
   "metadata": {},
   "outputs": [
    {
     "name": "stdout",
     "output_type": "stream",
     "text": [
      "True\n"
     ]
    }
   ],
   "source": [
    "# imports \n",
    "from __future__ import unicode_literals, print_function, division\n",
    "from io import open\n",
    "import unicodedata\n",
    "import string\n",
    "import re\n",
    "import random\n",
    "\n",
    "import torch\n",
    "import torch.nn as nn\n",
    "from torch.autograd import Variable\n",
    "from torch import optim\n",
    "import torch.nn.functional as F\n",
    "\n",
    "use_cuda = torch.cuda.is_available()\n",
    "print(use_cuda)"
   ]
  },
  {
   "cell_type": "markdown",
   "metadata": {},
   "source": [
    "## Preprocess\n",
    "Just downloaded data to `data` dir  \n",
    "1. Ran tokenizer on it.\n",
    "2. Lowercased all the data\n",
    "\n",
    "\n",
    "Note: Good idea to do pre processing using external tools"
   ]
  },
  {
   "cell_type": "code",
   "execution_count": 23,
   "metadata": {},
   "outputs": [],
   "source": [
    "SOS_token = 0\n",
    "EOS_token = 1\n",
    "\n",
    "class Lang:\n",
    "\n",
    "    SOS_token = 0\n",
    "    EOS_token = 1\n",
    "\n",
    "    def __init__(self, name):\n",
    "        self.name = name\n",
    "        self.word2index = {}\n",
    "        self.word2count = {}\n",
    "        self.index2word = {0: \"SOS\", 1: \"EOS\"}\n",
    "        self.n_words = 2  # Count SOS and EOS\n",
    "\n",
    "    def addSentence(self, sentence):\n",
    "        for word in sentence.split(' '):\n",
    "            self.addWord(word)\n",
    "\n",
    "    def addWord(self, word):\n",
    "        if word not in self.word2index:\n",
    "            self.word2index[word] = self.n_words\n",
    "            self.word2count[word] = 1\n",
    "            self.index2word[self.n_words] = word\n",
    "            self.n_words += 1\n",
    "        else:\n",
    "            self.word2count[word] += 1\n",
    "    \n",
    "    def sentenceToIndices(self, sentence):\n",
    "        return [self.word2index[word] for word in sentence.split(' ')]\n",
    "\n",
    "\n",
    "    def sentenceToVariable(self, sentence):\n",
    "        indexes = self.sentenceToIndices(sentence)\n",
    "        indexes.append(Lang.EOS_token)\n",
    "        result = Variable(torch.LongTensor(indexes).view(-1, 1))\n",
    "        if use_cuda:\n",
    "            result = result.cuda()\n",
    "        return result\n"
   ]
  },
  {
   "cell_type": "code",
   "execution_count": 24,
   "metadata": {},
   "outputs": [
    {
     "name": "stdout",
     "output_type": "stream",
     "text": [
      "Reading from ../data/eng-fra.tok.lc.tsv ...\n",
      "Read 135842 sentence pairs\n",
      "Trimmed to 135842 sentence pairs\n",
      "Counting words...\n",
      "Counted words:\n",
      "fra 26109\n",
      "eng 13572\n",
      "['la gosse souffre de la chaleur .', 'the child is suffering from the heat .']\n"
     ]
    }
   ],
   "source": [
    "def prepareData(path, lang1, lang2, reverse=False):\n",
    "    print(\"Reading from %s ...\" % path)\n",
    "    assert '%s-%s' % (lang1, lang2) in path\n",
    "\n",
    "    # Read the file and split into lines\n",
    "    lines = open('%s' % (path), encoding='utf-8').read().strip().split('\\n')\n",
    "\n",
    "    # Split every line into pairs and normalize\n",
    "    pairs = [l.split('\\t') for l in lines]\n",
    "\n",
    "    # Reverse pairs, make Lang instances\n",
    "    if reverse:\n",
    "        pairs = [list(reversed(p)) for p in pairs]\n",
    "        input_lang = Lang(lang2)\n",
    "        output_lang = Lang(lang1)\n",
    "    else:\n",
    "        input_lang = Lang(lang1)\n",
    "        output_lang = Lang(lang2)\n",
    "\n",
    "    #return input_lang, output_lang, pairs\n",
    "    print(\"Read %s sentence pairs\" % len(pairs))\n",
    "    #pairs = filterPairs(pairs)\n",
    "    print(\"Trimmed to %s sentence pairs\" % len(pairs))\n",
    "    print(\"Counting words...\")\n",
    "    for pair in pairs:\n",
    "        input_lang.addSentence(pair[0])\n",
    "        output_lang.addSentence(pair[1])\n",
    "    print(\"Counted words:\")\n",
    "    print(input_lang.name, input_lang.n_words)\n",
    "    print(output_lang.name, output_lang.n_words)\n",
    "    return input_lang, output_lang, pairs\n",
    "\n",
    "\n",
    "input_lang, output_lang, pairs = prepareData('../data/eng-fra.tok.lc.tsv', 'eng', 'fra', True)\n",
    "print(random.choice(pairs))"
   ]
  },
  {
   "cell_type": "markdown",
   "metadata": {},
   "source": [
    "# Seq2Seq Model"
   ]
  },
  {
   "cell_type": "code",
   "execution_count": 49,
   "metadata": {},
   "outputs": [],
   "source": [
    "class EncoderRNN(nn.Module):\n",
    "    def __init__(self, lang, hidden_size):\n",
    "        super(EncoderRNN, self).__init__()\n",
    "        self.lang = lang\n",
    "        self.hidden_size = hidden_size\n",
    "        self.embedding = nn.Embedding(lang.n_words, hidden_size)\n",
    "        self.gru = nn.GRU(hidden_size, hidden_size)\n",
    "\n",
    "    def forward(self, input, hidden):\n",
    "        embedded = self.embedding(input).view(input.size()[0], 1, -1)\n",
    "        output = embedded\n",
    "        output, hidden = self.gru(output, hidden)\n",
    "        return output, hidden\n",
    "\n",
    "    def initHidden(self):\n",
    "        result = Variable(torch.zeros(1, 1, self.hidden_size))\n",
    "        if use_cuda:\n",
    "            return result.cuda()\n",
    "        else:\n",
    "            return result\n",
    "        \n",
    "class DecoderRNN(nn.Module):\n",
    "    ## This decoder is dumb\n",
    "    def __init__(self, hidden_size, lang):\n",
    "        super(DecoderRNN, self).__init__()\n",
    "        self.hidden_size = hidden_size\n",
    "        self.lang = lang\n",
    "\n",
    "        self.embedding = nn.Embedding(lang.n_words, hidden_size)\n",
    "        self.gru = nn.GRU(hidden_size, hidden_size)\n",
    "        self.out = nn.Linear(hidden_size, lang.n_words)\n",
    "        self.softmax = nn.LogSoftmax(dim=1)\n",
    "\n",
    "    def forward(self, input, hidden):\n",
    "        output = self.embedding(input).view(1, 1, -1)\n",
    "        output = F.relu(output)\n",
    "        output, hidden = self.gru(output, hidden)\n",
    "        output = self.softmax(self.out(output[0]))\n",
    "        return output, hidden\n",
    "\n",
    "    def initHidden(self):\n",
    "        result = Variable(torch.zeros(1, 1, self.hidden_size))\n",
    "        if use_cuda:\n",
    "            return result.cuda()\n",
    "        else:\n",
    "            return result\n",
    "        "
   ]
  },
  {
   "cell_type": "code",
   "execution_count": 21,
   "metadata": {},
   "outputs": [],
   "source": [
    "def variablesFromPair(pair):\n",
    "    input_variable = input_lang.variableFromSentence(pair[0])\n",
    "    target_variable = output_lang.variableFromSentence(pair[1])\n",
    "    return (input_variable, target_variable)"
   ]
  },
  {
   "cell_type": "markdown",
   "metadata": {},
   "source": [
    "## Training"
   ]
  },
  {
   "cell_type": "code",
   "execution_count": 6,
   "metadata": {},
   "outputs": [],
   "source": [
    "teacher_forcing_ratio = 0.5\n",
    "MAX_LENGTH=100\n",
    "\n",
    "def train(input_variable, target_variable, encoder, decoder, encoder_optimizer, decoder_optimizer, criterion, max_length=MAX_LENGTH):\n",
    "    encoder_hidden = encoder.initHidden()\n",
    "\n",
    "    encoder_optimizer.zero_grad()\n",
    "    decoder_optimizer.zero_grad()\n",
    "\n",
    "    input_length = input_variable.size()[0]\n",
    "    target_length = target_variable.size()[0]\n",
    "\n",
    "    # store all outputs of encoder -- for attention \n",
    "    encoder_outputs = Variable(torch.zeros(max_length, encoder.hidden_size))\n",
    "    encoder_outputs = encoder_outputs.cuda() if use_cuda else encoder_outputs\n",
    "\n",
    "    loss = 0\n",
    "\n",
    "    for ei in range(input_length):\n",
    "        #print(ei, input_variable[ei])\n",
    "        encoder_output, encoder_hidden = encoder(input_variable[ei], encoder_hidden)\n",
    "        encoder_outputs[ei] = encoder_output[0][0]\n",
    "\n",
    "    decoder_input = Variable(torch.LongTensor([[SOS_token]]))\n",
    "    decoder_input = decoder_input.cuda() if use_cuda else decoder_input\n",
    "\n",
    "    decoder_hidden = encoder_hidden\n",
    "\n",
    "    use_teacher_forcing = True if random.random() < teacher_forcing_ratio else False\n",
    "\n",
    "    if use_teacher_forcing:\n",
    "        # Teacher forcing: Feed the target as the next input\n",
    "        for di in range(target_length):\n",
    "            decoder_output, decoder_hidden = decoder(decoder_input, decoder_hidden)\n",
    "            # For attention based decoder\n",
    "            #decoder_output, decoder_hidden, decoder_attention = decoder(decoder_input, decoder_hidden, encoder_outputs)\n",
    "            loss += criterion(decoder_output, target_variable[di])\n",
    "            decoder_input = target_variable[di]  # Teacher forcing\n",
    "\n",
    "    else:\n",
    "        # Without teacher forcing: use its own predictions as the next input\n",
    "        for di in range(target_length):\n",
    "            decoder_output, decoder_hidden = decoder(decoder_input, decoder_hidden)\n",
    "            # For attention based decoder :\n",
    "            #decoder_output, decoder_hidden, decoder_attention = decoder(decoder_input, decoder_hidden, encoder_outputs)\n",
    "            topv, topi = decoder_output.data.topk(1)\n",
    "            ni = topi[0][0]\n",
    "\n",
    "            decoder_input = Variable(torch.LongTensor([[ni]]))\n",
    "            decoder_input = decoder_input.cuda() if use_cuda else decoder_input\n",
    "\n",
    "            loss += criterion(decoder_output, target_variable[di])\n",
    "            if ni == EOS_token:\n",
    "                break\n",
    "\n",
    "    loss.backward()\n",
    "\n",
    "    encoder_optimizer.step()\n",
    "    decoder_optimizer.step()\n",
    "\n",
    "    return loss.data[0] / target_length"
   ]
  },
  {
   "cell_type": "code",
   "execution_count": 7,
   "metadata": {},
   "outputs": [],
   "source": [
    "import time\n",
    "import math\n",
    "import matplotlib.pyplot as plt\n",
    "import matplotlib.ticker as ticker\n",
    "import numpy as np\n",
    "\n",
    "\n",
    "def showPlot(points):\n",
    "    plt.figure()\n",
    "    fig, ax = plt.subplots()\n",
    "    # this locator puts ticks at regular intervals\n",
    "    loc = ticker.MultipleLocator(base=0.2)\n",
    "    ax.yaxis.set_major_locator(loc)\n",
    "    plt.plot(points)\n",
    "    plt.show()\n",
    "\n",
    "def asMinutes(s):\n",
    "    m = math.floor(s / 60)\n",
    "    s -= m * 60\n",
    "    return '%dm %ds' % (m, s)\n",
    "\n",
    "\n",
    "def timeSince(since, percent):\n",
    "    now = time.time()\n",
    "    s = now - since\n",
    "    es = s / (percent)\n",
    "    rs = es - s\n",
    "    return '%s (- %s)' % (asMinutes(s), asMinutes(rs))\n",
    "\n",
    "def trainIters(encoder, decoder, n_iters, print_every=1000, plot_every=100, learning_rate=0.01):\n",
    "    start = time.time()\n",
    "    plot_losses = []\n",
    "    print_loss_total = 0  # Reset every print_every\n",
    "    plot_loss_total = 0  # Reset every plot_every\n",
    "\n",
    "    encoder_optimizer = optim.SGD(encoder.parameters(), lr=learning_rate)\n",
    "    decoder_optimizer = optim.SGD(decoder.parameters(), lr=learning_rate)\n",
    "    training_pairs = [variablesFromPair(random.choice(pairs)) for i in range(n_iters)]\n",
    "    criterion = nn.NLLLoss()\n",
    "\n",
    "    for iter in range(1, n_iters + 1):\n",
    "        training_pair = training_pairs[iter - 1]\n",
    "        input_variable = training_pair[0]\n",
    "        target_variable = training_pair[1]\n",
    "\n",
    "        loss = train(input_variable, target_variable, encoder, decoder, encoder_optimizer, decoder_optimizer, criterion)\n",
    "        print_loss_total += loss\n",
    "        plot_loss_total += loss\n",
    "\n",
    "        if iter % print_every == 0:\n",
    "            print_loss_avg = print_loss_total / print_every\n",
    "            print_loss_total = 0\n",
    "            print('%s (%d %d%%) %.4f' % (timeSince(start, iter / n_iters),\n",
    "                                         iter, iter / n_iters * 100, print_loss_avg))\n",
    "\n",
    "        if iter % plot_every == 0:\n",
    "            plot_loss_avg = plot_loss_total / plot_every\n",
    "            plot_losses.append(plot_loss_avg)\n",
    "            plot_loss_total = 0\n",
    "\n",
    "    showPlot(plot_losses)\n",
    "    "
   ]
  },
  {
   "cell_type": "code",
   "execution_count": 8,
   "metadata": {},
   "outputs": [
    {
     "name": "stdout",
     "output_type": "stream",
     "text": [
      "0m 3s (- 0m 34s) (100 10%) 5.9293\n",
      "0m 7s (- 0m 29s) (200 20%) 5.2699\n",
      "0m 11s (- 0m 26s) (300 30%) 4.8584\n",
      "0m 14s (- 0m 22s) (400 40%) 4.8306\n",
      "0m 18s (- 0m 18s) (500 50%) 4.8380\n",
      "0m 21s (- 0m 14s) (600 60%) 4.8896\n",
      "0m 24s (- 0m 10s) (700 70%) 4.6523\n",
      "0m 27s (- 0m 6s) (800 80%) 4.6427\n",
      "0m 31s (- 0m 3s) (900 90%) 4.9035\n",
      "0m 34s (- 0m 0s) (1000 100%) 4.5650\n"
     ]
    },
    {
     "data": {
      "text/plain": [
       "<Figure size 432x288 with 0 Axes>"
      ]
     },
     "metadata": {},
     "output_type": "display_data"
    },
    {
     "data": {
      "image/png": "[encoded data removed]",
      "text/plain": [
       "<Figure size 432x288 with 1 Axes>"
      ]
     },
     "metadata": {},
     "output_type": "display_data"
    }
   ],
   "source": [
    "# Run the trainer\n",
    "\n",
    "hidden_size = 256\n",
    "enc = EncoderRNN(input_lang.n_words, hidden_size).cuda()\n",
    "dec = DecoderRNN(hidden_size, output_lang.n_words).cuda()\n",
    "\n",
    "\n",
    "trainIters(enc, dec, 1000, print_every=100, plot_every=50)"
   ]
  },
  {
   "cell_type": "code",
   "execution_count": 9,
   "metadata": {},
   "outputs": [
    {
     "name": "stdout",
     "output_type": "stream",
     "text": [
      "0m 3s (- 0m 35s) (100 10%) 4.5302\n",
      "0m 7s (- 0m 30s) (200 20%) 4.6608\n",
      "0m 10s (- 0m 24s) (300 30%) 4.6239\n",
      "0m 13s (- 0m 20s) (400 40%) 4.5055\n",
      "0m 16s (- 0m 16s) (500 50%) 4.6322\n",
      "0m 19s (- 0m 13s) (600 60%) 4.6339\n",
      "0m 23s (- 0m 9s) (700 70%) 4.5848\n",
      "0m 26s (- 0m 6s) (800 80%) 4.4904\n",
      "0m 30s (- 0m 3s) (900 90%) 4.6844\n",
      "0m 33s (- 0m 0s) (1000 100%) 4.6031\n"
     ]
    },
    {
     "data": {
      "text/plain": [
       "<Figure size 432x288 with 0 Axes>"
      ]
     },
     "metadata": {},
     "output_type": "display_data"
    },
    {
     "data": {
      "image/png": "[encoded data removed]",
      "text/plain": [
       "<Figure size 432x288 with 1 Axes>"
      ]
     },
     "metadata": {},
     "output_type": "display_data"
    }
   ],
   "source": [
    "trainIters(enc, dec, 1000, print_every=100, plot_every=50)"
   ]
  },
  {
   "cell_type": "markdown",
   "metadata": {},
   "source": [
    "## Evaluate"
   ]
  },
  {
   "cell_type": "code",
   "execution_count": 10,
   "metadata": {},
   "outputs": [],
   "source": [
    "# Evaluate \n",
    "\n",
    "def evaluate(encoder, decoder, sentence, max_length=MAX_LENGTH):\n",
    "    input_variable = variableFromSentence(input_lang, sentence)\n",
    "    input_length = input_variable.size()[0]\n",
    "    encoder_hidden = encoder.initHidden()\n",
    "\n",
    "    encoder_outputs = Variable(torch.zeros(max_length, encoder.hidden_size))\n",
    "    encoder_outputs = encoder_outputs.cuda() if use_cuda else encoder_outputs\n",
    "\n",
    "    for ei in range(input_length):\n",
    "        encoder_output, encoder_hidden = encoder(input_variable[ei], encoder_hidden)\n",
    "        encoder_outputs[ei] = encoder_outputs[ei] + encoder_output[0][0]\n",
    "\n",
    "    decoder_input = Variable(torch.LongTensor([[SOS_token]]))  # SOS\n",
    "    decoder_input = decoder_input.cuda() if use_cuda else decoder_input\n",
    "\n",
    "    decoder_hidden = encoder_hidden\n",
    "\n",
    "    decoded_words = []\n",
    "    decoder_attentions = torch.zeros(max_length, max_length)\n",
    "\n",
    "    for di in range(max_length):\n",
    "        decoder_output, decoder_hidden = decoder(decoder_input, decoder_hidden)\n",
    "        #decoder_output, decoder_hidden, decoder_attention = decoder(decoder_input, decoder_hidden, encoder_outputs)\n",
    "        #decoder_attentions[di] = decoder_attention.data\n",
    "        topv, topi = decoder_output.data.topk(1)\n",
    "        ni = topi[0][0]\n",
    "        if ni == EOS_token:\n",
    "            decoded_words.append('<EOS>')\n",
    "            break\n",
    "        else:\n",
    "            decoded_words.append(output_lang.index2word[ni])\n",
    "\n",
    "        decoder_input = Variable(torch.LongTensor([[ni]]))\n",
    "        decoder_input = decoder_input.cuda() if use_cuda else decoder_input\n",
    "    return decoded_words, decoder_attentions[:di + 1]\n",
    "\n",
    "\n",
    "def evaluateRandomly(encoder, decoder, n=10):\n",
    "    for i in range(n):\n",
    "        pair = random.choice(pairs)\n",
    "        print('>', pair[0])\n",
    "        print('=', pair[1])\n",
    "        output_words, attentions = evaluate(encoder, decoder, pair[0])\n",
    "        output_sentence = ' '.join(output_words)\n",
    "        print('<', output_sentence)\n",
    "        print('')\n",
    "        "
   ]
  },
  {
   "cell_type": "code",
   "execution_count": 11,
   "metadata": {},
   "outputs": [
    {
     "name": "stdout",
     "output_type": "stream",
     "text": [
      "> il ne prend pas de congés .\n",
      "= he doesn 't take vacations .\n",
      "< i 're 't know . <EOS>\n",
      "\n",
      "> sais-tu ce que tom portait ?\n",
      "= do you know what tom was wearing ?\n",
      "< how do you ? ? <EOS>\n",
      "\n",
      "> les oiseaux construisent des nids .\n",
      "= birds build nests .\n",
      "< i 're 't know . <EOS>\n",
      "\n",
      "> j 'ai eu le sentiment que tu allais me le demander .\n",
      "= i had the feeling you were going to ask me that .\n",
      "< i 're 't know . <EOS>\n",
      "\n",
      "> vous ne pouvez pas me sauver .\n",
      "= you can 't save me .\n",
      "< i 're 't know . <EOS>\n",
      "\n",
      "> je ne dirais pas non à une bière , là .\n",
      "= i wouldn 't mind a beer right now .\n",
      "< i 're 't know . <EOS>\n",
      "\n",
      "> ses yeux trahissaient sa peur .\n",
      "= his eyes betrayed his fear .\n",
      "< i 're 't know . <EOS>\n",
      "\n",
      "> il n 'arriva pas à l 'heure .\n",
      "= he didn 't come on time .\n",
      "< i 're 't know . <EOS>\n",
      "\n",
      "> tourne à droite au prochain carrefour .\n",
      "= turn right at the next intersection .\n",
      "< i 're 't know . <EOS>\n",
      "\n",
      "> es-tu en train de te moquer de moi ?\n",
      "= are you making fun of me ?\n",
      "< how do you ? ? <EOS>\n",
      "\n"
     ]
    }
   ],
   "source": [
    "evaluateRandomly(enc, dec)"
   ]
  },
  {
   "cell_type": "markdown",
   "metadata": {},
   "source": [
    "# Buffer"
   ]
  },
  {
   "cell_type": "code",
   "execution_count": 9,
   "metadata": {},
   "outputs": [],
   "source": [
    "i, o = variablesFromPair(pairs[1000])"
   ]
  },
  {
   "cell_type": "code",
   "execution_count": 31,
   "metadata": {},
   "outputs": [],
   "source": [
    "# Run the trainer\n",
    "\n",
    "hidden_size = 256\n",
    "enc = EncoderRNN(input_lang, hidden_size)\n",
    "dec = DecoderRNN(hidden_size, output_lang)\n",
    "\n",
    "\n",
    "if use_cuda:\n",
    "    enc = enc.cuda()\n",
    "    dec = dec.cuda()"
   ]
  },
  {
   "cell_type": "code",
   "execution_count": 30,
   "metadata": {},
   "outputs": [],
   "source": [
    "\n",
    "class Trainer(object):\n",
    "    \n",
    "    def __init__(self, encr, decr, learning_rate=0.001):\n",
    "        self.enc = encr\n",
    "        self.dec = decr\n",
    "        self.enc_optr = optim.SGD(encr.parameters(), lr=learning_rate)\n",
    "        self.dec_optr = optim.SGD(decr.parameters(), lr=learning_rate)\n",
    "        self.criterion = nn.NLLLoss()\n",
    "\n",
    "    def _train_(self, seq_in, seq_out):\n",
    "\n",
    "        self.enc_optr.zero_grad()\n",
    "        self.dec_optr.zero_grad()\n",
    "        in_len, out_len = seq_in.size()[0], seq_out.size()[0]\n",
    "        loss = 0\n",
    "        # Encoder\n",
    "        enc_hidden = self.enc.initHidden()\n",
    "        enc_outs, enc_hidden = self.enc(seq_in, enc_hidden)\n",
    "\n",
    "        # Decoder\n",
    "        dec_hidden = enc_hidden\n",
    "        dec_input = Variable(torch.LongTensor([[SOS_token]])).cuda()\n",
    "        for di in range(out_len):\n",
    "            dec_out, dec_hidden = self.dec(dec_input, dec_hidden)\n",
    "            topv, topi = dec_out.data.topk(1)\n",
    "            ni = topi[0][0]\n",
    "            dec_input = Variable(torch.LongTensor([[ni]])).cuda()\n",
    "            loss += self.criterion(dec_out, seq_out[di])\n",
    "            if ni == EOS_token:\n",
    "                break\n",
    "\n",
    "        loss.backward()\n",
    "\n",
    "        self.enc_optr.step()\n",
    "        self.dec_optr.step()\n",
    "\n",
    "        return loss.data[0] / out_len\n",
    "    \n",
    "    def train(self, n_iters, pairs, print_every=1000, plot_every=100):\n",
    "        start = time.time()\n",
    "        plot_losses = []\n",
    "        print_loss_total = 0  # Reset every print_every\n",
    "        plot_loss_total = 0  # Reset every plot_every\n",
    "        \n",
    "        train_pairs = [random.choice(pairs) for i in range(n_iters)]\n",
    "        train_pairs = [(self.enc.lang.sentenceToVariable(src), \n",
    "                        self.dec.lang.sentenceToVariable(tgt)) for src, tgt in train_pairs]\n",
    "\n",
    "        for iter in range(1, n_iters + 1):\n",
    "            seq_in, seq_out = train_pairs[iter - 1]\n",
    "\n",
    "            loss = self._train_(seq_in, seq_out)\n",
    "            print_loss_total += loss\n",
    "            plot_loss_total += loss\n",
    "\n",
    "            if iter % print_every == 0:\n",
    "                print_loss_avg = print_loss_total / print_every\n",
    "                print_loss_total = 0\n",
    "                print('%s (%d %d%%) %.4f' % (timeSince(start, iter / n_iters),\n",
    "                                             iter, iter / n_iters * 100, print_loss_avg))\n",
    "\n",
    "            if iter % plot_every == 0:\n",
    "                plot_loss_avg = plot_loss_total / plot_every\n",
    "                plot_losses.append(plot_loss_avg)\n",
    "                plot_loss_total = 0\n",
    "        showPlot(plot_losses)\n"
   ]
  },
  {
   "cell_type": "code",
   "execution_count": 32,
   "metadata": {},
   "outputs": [
    {
     "name": "stdout",
     "output_type": "stream",
     "text": [
      "0m 16s (- 0m 0s) (1000 100%) 5.6237\n"
     ]
    },
    {
     "data": {
      "text/plain": [
       "<Figure size 432x288 with 0 Axes>"
      ]
     },
     "metadata": {},
     "output_type": "display_data"
    },
    {
     "data": {
      "image/png": "[encoded data removed]",
      "text/plain": [
       "<Figure size 432x288 with 1 Axes>"
      ]
     },
     "metadata": {},
     "output_type": "display_data"
    }
   ],
   "source": [
    "trainer = Trainer(enc, dec)\n",
    "trainer.train(1000, pairs)"
   ]
  },
  {
   "cell_type": "code",
   "execution_count": 62,
   "metadata": {},
   "outputs": [
    {
     "name": "stdout",
     "output_type": "stream",
     "text": [
      "0m 19s (- 2m 55s) (1000 10%) 9.5444\n",
      "0m 37s (- 2m 30s) (2000 20%) 9.5415\n",
      "0m 55s (- 2m 9s) (3000 30%) 9.5414\n",
      "1m 13s (- 1m 50s) (4000 40%) 9.5435\n",
      "1m 31s (- 1m 31s) (5000 50%) 9.5392\n",
      "1m 49s (- 1m 12s) (6000 60%) 9.5416\n",
      "2m 7s (- 0m 54s) (7000 70%) 9.5411\n",
      "2m 24s (- 0m 36s) (8000 80%) 9.5437\n",
      "2m 43s (- 0m 18s) (9000 90%) 9.5443\n",
      "3m 3s (- 0m 0s) (10000 100%) 9.5410\n"
     ]
    },
    {
     "data": {
      "text/plain": [
       "<Figure size 432x288 with 0 Axes>"
      ]
     },
     "metadata": {},
     "output_type": "display_data"
    },
    {
     "data": {
      "image/png": "[encoded data removed]",
      "text/plain": [
       "<Figure size 432x288 with 1 Axes>"
      ]
     },
     "metadata": {},
     "output_type": "display_data"
    }
   ],
   "source": [
    "trainer.train(10000, pairs)"
   ]
  },
  {
   "cell_type": "code",
   "execution_count": 37,
   "metadata": {},
   "outputs": [
    {
     "name": "stdout",
     "output_type": "stream",
     "text": [
      "> j 'ai été largué .\n",
      "= i got dumped .\n",
      "< i you you . <EOS>\n",
      "\n",
      "> vous m 'importunez vraiment .\n",
      "= you really annoy me .\n",
      "< i you you . <EOS>\n",
      "\n",
      "> qui se soucie des faits ?\n",
      "= who cares about facts ?\n",
      "< i you you . <EOS>\n",
      "\n",
      "> il n 'a pas d 'ami avec qui jouer .\n",
      "= he doesn 't have any friends to play with .\n",
      "< i you you . <EOS>\n",
      "\n",
      "> il ira aussi .\n",
      "= he will also go .\n",
      "< i you you . <EOS>\n",
      "\n",
      "> combien de temps es-tu partie ?\n",
      "= how long were you gone ?\n",
      "< i you you . <EOS>\n",
      "\n",
      "> tu devrais vraiment laisser tomber ça . ça va ruiner ta santé .\n",
      "= you should really lay off that . it 'll ruin your health .\n",
      "< i you you . <EOS>\n",
      "\n",
      "> je vais devoir travailler dur .\n",
      "= i 'll have to work hard .\n",
      "< i you you . <EOS>\n",
      "\n",
      "> plus grand ne veut pas toujours dire meilleur .\n",
      "= bigger doesn 't always mean better .\n",
      "< i you you . <EOS>\n",
      "\n",
      "> il ressentit une douleur soudaine .\n",
      "= he felt a sudden pain .\n",
      "< i you you . <EOS>\n",
      "\n",
      "> il lui fait du chantage .\n",
      "= she is being blackmailed by him .\n",
      "< i you you . <EOS>\n",
      "\n"
     ]
    }
   ],
   "source": [
    "evaluateRandomly(enc, dec, 11)"
   ]
  },
  {
   "cell_type": "code",
   "execution_count": 47,
   "metadata": {},
   "outputs": [],
   "source": [
    "class Translator(object):\n",
    "    \n",
    "    def __init__(self, enc, dec):\n",
    "        self.enc = enc\n",
    "        self.dec = dec\n",
    "\n",
    "    def translate(self, sentence, max_length=MAX_LENGTH):\n",
    "        enc_in = self.enc.lang.sentenceToVariable(sentence)\n",
    "        enc_hidden = self.enc.initHidden()\n",
    "\n",
    "        enc_outs, enc_hidden = self.enc(enc_in, enc_hidden)\n",
    "        dec_in = Variable(torch.LongTensor([[SOS_token]]))  # SOS\n",
    "        dec_in = dec_in.cuda() if use_cuda else dec_in\n",
    "\n",
    "        dec_hidden = enc_hidden\n",
    "\n",
    "        decoded_words = []\n",
    "        decoder_attentions = torch.zeros(max_length, max_length)\n",
    "\n",
    "        for di in range(max_length):\n",
    "            dec_out, dec_hidden = self.dec(dec_in, dec_hidden)\n",
    "            #dec_out, deco_hidden, decoder_attention = self.dec(dec_in, dec_hidden, enc_outs)\n",
    "            #decoder_attentions[di] = decoder_attention.data\n",
    "            topv, topi = dec_out.data.topk(1)\n",
    "            ni = topi[0][0]\n",
    "            if ni == EOS_token:\n",
    "                decoded_words.append('<EOS>')\n",
    "                break\n",
    "            else:\n",
    "                decoded_words.append(self.dec.lang.index2word[ni])\n",
    "\n",
    "            dec_in = Variable(torch.LongTensor([[ni]]))\n",
    "            dec_in = dec_in.cuda() if use_cuda else dec_in\n",
    "        return decoded_words, decoder_attentions[:di + 1]\n",
    "\n",
    "    def evaluateRandomly(self, pairs, n=10):\n",
    "        for i in range(n):\n",
    "            pair = random.choice(pairs)\n",
    "            print('>', pair[0])\n",
    "            print('=', pair[1])\n",
    "            output_words, attentions = self.translate(pair[0])\n",
    "            output_sentence = ' '.join(output_words)\n",
    "            print('<', output_sentence)\n",
    "            print()\n",
    "\n",
    "    "
   ]
  },
  {
   "cell_type": "code",
   "execution_count": 48,
   "metadata": {},
   "outputs": [
    {
     "name": "stdout",
     "output_type": "stream",
     "text": [
      "> je ne peux pas vous autoriser à entrer là .\n",
      "= i can 't let you in there .\n",
      "< i you you . <EOS>\n",
      "\n",
      "> tu es maigrichon .\n",
      "= you 're skinny .\n",
      "< i you you . <EOS>\n",
      "\n",
      "> où que l 'on regarde , on peut voir de jeunes couples en train de s 'embrasser .\n",
      "= everywhere you look you can see young couples kissing .\n",
      "< i you you . <EOS>\n",
      "\n",
      "> l 'argent n 'est pas tout , mais si vous n 'avez pas d 'argent , vous ne pouvez rien faire .\n",
      "= money isn 't everything , but if you have no money , you can 't do anything .\n",
      "< i you you . <EOS>\n",
      "\n",
      "> je suis impatient de te voir en robe de mariée .\n",
      "= i 'm looking forward to seeing you in a wedding dress .\n",
      "< i you you . <EOS>\n",
      "\n",
      "> je vous ai fait attendre longtemps , je vous prie de m 'excuser .\n",
      "= i 'm sorry i 've kept you waiting so long .\n",
      "< i you you . <EOS>\n",
      "\n",
      "> laisse-le s 'en aller !\n",
      "= let him go !\n",
      "< i you you . <EOS>\n",
      "\n",
      "> je sais qu 'ils voudront tous vous aider .\n",
      "= i know they 'll all want to help you .\n",
      "< i you you . <EOS>\n",
      "\n",
      "> nous devons faire ceci maintenant .\n",
      "= we must do this right now .\n",
      "< i you you . <EOS>\n",
      "\n",
      "> ce genre de machine reste encore à être inventée .\n",
      "= that kind of machine is yet to be invented .\n",
      "< i you you . <EOS>\n",
      "\n"
     ]
    }
   ],
   "source": [
    "trans = Translator(enc, dec)\n",
    "trans.evaluateRandomly(pairs)"
   ]
  },
  {
   "cell_type": "markdown",
   "metadata": {},
   "source": [
    "# Attention Decoder\n",
    "![](http://pytorch.org/tutorials/_images/attention-decoder-network.png)"
   ]
  },
  {
   "cell_type": "code",
   "execution_count": null,
   "metadata": {},
   "outputs": [],
   "source": [
    "class AttnDecoderRNN(nn.Module):\n",
    "    \n",
    "    def __init__(self, hidden_size, lang, dropout_p=0.1, max_length=MAX_LENGTH):\n",
    "        super(AttnDecoderRNN, self).__init__()\n",
    "        self.embedding = nn.Embedding(lang.n_words, hidden_size)\n",
    "        self.dropout = nn.Dropout(dropout_p)\n",
    "\n",
    "        self.attn = nn.Linear(2 * hidden_size, max_length)\n",
    "\n",
    "\n",
    "    def forward(self, input, hidden):\n",
    "        embedded = self.embedding(input).view(1,1,-1)\n",
    "        embedded = self.dropout(prev_word)\n",
    "        emb_cat_hid = torch.cat((embedded[0], hidden[0]), 1)\n",
    "        attn_weights = F.softmax(self.attn(emb_cat_hid), dim=1))\n",
    "        \n",
    "        "
   ]
  },
  {
   "cell_type": "code",
   "execution_count": null,
   "metadata": {},
   "outputs": [],
   "source": []
  },
  {
   "cell_type": "code",
   "execution_count": 68,
   "metadata": {},
   "outputs": [
    {
     "name": "stdout",
     "output_type": "stream",
     "text": [
      "Variable containing:\n",
      " 0.7493  0.8484  0.1063  0.1753\n",
      "[torch.FloatTensor of size 1x4]\n",
      "\n",
      "Variable containing:\n",
      " 0.3132  0.3458  0.1646  0.1764\n",
      "[torch.FloatTensor of size 1x4]\n",
      "\n"
     ]
    }
   ],
   "source": [
    "x = Variable(torch.rand((1, 4)))\n",
    "print(x)\n",
    "print(F.softmax(x, dim=1))"
   ]
  },
  {
   "cell_type": "code",
   "execution_count": null,
   "metadata": {},
   "outputs": [],
   "source": []
  }
 ],
 "metadata": {
  "kernelspec": {
   "display_name": "Python 3",
   "language": "python",
   "name": "python3"
  },
  "language_info": {
   "codemirror_mode": {
    "name": "ipython",
    "version": 3
   },
   "file_extension": ".py",
   "mimetype": "text/x-python",
   "name": "python",
   "nbconvert_exporter": "python",
   "pygments_lexer": "ipython3",
   "version": "3.6.2"
  }
 },
 "nbformat": 4,
 "nbformat_minor": 2
}
